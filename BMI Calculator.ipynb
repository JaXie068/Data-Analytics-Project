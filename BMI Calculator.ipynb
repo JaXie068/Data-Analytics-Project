{
 "cells": [
  {
   "cell_type": "markdown",
   "id": "d1d4d386",
   "metadata": {},
   "source": [
    "BMI Calculator"
   ]
  },
  {
   "cell_type": "code",
   "execution_count": 17,
   "id": "23c770e9",
   "metadata": {},
   "outputs": [
    {
     "name": "stdout",
     "output_type": "stream",
     "text": [
      "Enter your name: Arsie\n",
      "Enter your weight in pounds: 125\n",
      "Enter your height in inches: 62\n",
      "22.860301768990634\n",
      "Arsie, you are normal weight.\n"
     ]
    }
   ],
   "source": [
    "name= input(\"Enter your name: \")\n",
    "weight= int(input(\"Enter your weight in pounds: \"))\n",
    "height= int(input(\"Enter your height in inches: \"))\n",
    "BMI= (weight * 703)/(height * height)\n",
    "print (BMI)\n",
    "if BMI > 0:\n",
    "    if(BMI <18.5):\n",
    "        print(name + \", you are underweight.\")\n",
    "    elif(BMI <=24.9):\n",
    "        print(name + \", you are normal weight.\")\n",
    "    elif(BMI <=29.9):\n",
    "        print(name + \", you are overweight.\")\n",
    "    elif(BMI <=34.9):\n",
    "        print(name + \", you are obese.\")\n",
    "    elif(BMI <=39.9):\n",
    "        print(name + \", you are severely obese.\")\n",
    "    else:\n",
    "        print(name + \", you are morbidly obese.\")\n",
    "else:\n",
    "    print(\"Enter valid input\")"
   ]
  },
  {
   "cell_type": "code",
   "execution_count": null,
   "id": "c946fe37",
   "metadata": {},
   "outputs": [],
   "source": []
  },
  {
   "cell_type": "code",
   "execution_count": null,
   "id": "1d802bdf",
   "metadata": {},
   "outputs": [],
   "source": []
  }
 ],
 "metadata": {
  "kernelspec": {
   "display_name": "Python 3 (ipykernel)",
   "language": "python",
   "name": "python3"
  },
  "language_info": {
   "codemirror_mode": {
    "name": "ipython",
    "version": 3
   },
   "file_extension": ".py",
   "mimetype": "text/x-python",
   "name": "python",
   "nbconvert_exporter": "python",
   "pygments_lexer": "ipython3",
   "version": "3.11.5"
  }
 },
 "nbformat": 4,
 "nbformat_minor": 5
}
